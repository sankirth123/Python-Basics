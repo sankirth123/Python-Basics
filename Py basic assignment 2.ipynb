{
 "cells": [
  {
   "cell_type": "markdown",
   "metadata": {},
   "source": [
    "# 1.What are the two values of the Boolean data type? How do you write them?\n",
    "\n",
    "The 2 values of boolean data types are : True, False\n",
    "We can write it as True, False both first letters capital and remaining in lowercase letters\n",
    "\n",
    "Example:\n",
    "\n",
    "print(1 > 9)\n",
    "\n",
    "print(10 == 19)\n",
    "\n",
    "print(10 < 19)\n",
    "\n",
    "O/P : False, False, True\n"
   ]
  },
  {
   "cell_type": "markdown",
   "metadata": {},
   "source": [
    "# 2.What are the three different types of Boolean operators?\n",
    "\n",
    "The Three different types of boolean operators are\n",
    "\n",
    "The AND operator (&)\n",
    "\n",
    "The OR operator (|)\n",
    "\n",
    "The NOT operator (~)"
   ]
  },
  {
   "cell_type": "markdown",
   "metadata": {},
   "source": [
    "# 3. Make a list of each Boolean operator's truth tables (i.e. every possible combination of Boolean values for the operator and what it evaluate)\n",
    "\n",
    "AND Boolean Operator :\n",
    "\n",
    "True and True is True\n",
    "\n",
    "True and False is False\n",
    "\n",
    "False and True is False\n",
    "\n",
    "False and False is False\n",
    "\n",
    "-----------------\n",
    "OR Boolean Operator :\n",
    "\n",
    "True or True is True\n",
    "\n",
    "True or False is True\n",
    "\n",
    "False or True is True\n",
    "\n",
    "False or False is False\n",
    "\n",
    "----------------------\n",
    "NOT Boolean Operator :\n",
    "\n",
    "not True is False\n",
    "\n",
    "not False is True\n",
    "\n",
    "\n"
   ]
  },
  {
   "cell_type": "markdown",
   "metadata": {},
   "source": [
    "                                                                                 \n",
    " # 4. What are the values of the following expressions?\n",
    "\n",
    "(5 > 4) and (3 == 5) \n",
    "\n",
    "O/P : True and False = False\n",
    "\n",
    "\n",
    "\n",
    "not (5 > 4) \n",
    "\n",
    "O/P : not true = Fasle\n",
    "\n",
    "\n",
    "\n",
    "(5 > 4) or (3 == 5)\n",
    "\n",
    "O/P : True or False = True\n",
    "\n",
    "\n",
    "\n",
    "\n",
    "not ((5 > 4) or (3 == 5))\n",
    "\n",
    "O/P : not (True or False) = not (True) = False\n",
    "   \n",
    "      \n",
    "\n",
    "\n",
    "(True and True) and (True == False)\n",
    "\n",
    "O/P : True and False = False\n",
    "\n",
    "\n",
    "\n",
    "\n",
    "(not False) or (not True)\n",
    "\n",
    "O/P : True or False = True\n"
   ]
  },
  {
   "cell_type": "markdown",
   "metadata": {},
   "source": [
    "# 5. What are the six comparison operators?\n",
    "\n",
    "The six comparision operators are  (==, !=, >, <, >=, <=)\n",
    "\n",
    "Equal == ,  \n",
    "\n",
    "Not equal != , \n",
    "\n",
    "Greater than > ,\n",
    "\n",
    "Less than < , \n",
    "\n",
    "Greater than or equal to >= , \n",
    "\n",
    "Less than or equal to <= ,\n",
    "\n",
    "\n",
    "\n"
   ]
  },
  {
   "cell_type": "markdown",
   "metadata": {},
   "source": [
    "# 6. How do you tell the difference between the equal to and assignment operators? Describe a condition and when you would use one.\n",
    "\n",
    "== is the Equal operator among the comparision operators. Which is used to compare two values.\n",
    "\n",
    "Example : \n",
    "\n",
    "x = 10 ,\n",
    "\n",
    "y = 13,\n",
    "\n",
    "print(x == y)\n",
    "\n",
    "O/P : False\n",
    "\n",
    "\n",
    "Where, = is a assignment operator that stores a value in variable\n",
    "\n",
    "Example : \n",
    "\n",
    "x = 15\n",
    "\n",
    "print(x)\n",
    "\n",
    "O/P : 15\n"
   ]
  },
  {
   "cell_type": "markdown",
   "metadata": {},
   "source": [
    "# 7. Identify 3 blocks in this code\n",
    "\n",
    "Print('bacon')  & Print('ham')\n",
    "\n"
   ]
  },
  {
   "cell_type": "code",
   "execution_count": 2,
   "metadata": {},
   "outputs": [
    {
     "name": "stdout",
     "output_type": "stream",
     "text": [
      "spam\n"
     ]
    }
   ],
   "source": [
    "spam = 0\n",
    "if spam == 10:\n",
    "    print('eggs')        # indentation  increased so this is Block 1\n",
    "    if spam > 5:         # 1\n",
    "        print('bacon')   # block 1, indent increased, block 2 inside block 1\n",
    "    else:                # block 1, indent decreased, block 2 ended in line above\n",
    "        print('ham')     # block 1, indent increased, block 3 inside block 1\n",
    "    print('spam')        # block 1, indent decreased, block 3 ended in line above\n",
    "print('spam')            # indentation decreased, block 1 ended in line above\n",
    "\n"
   ]
  },
  {
   "cell_type": "markdown",
   "metadata": {},
   "source": [
    "# 8. Write code that prints Hello if 1 is stored in spam, prints Howdy if 2 is stored in spam, and prints Greetings! if anything else is stored in spam.\n",
    "\n",
    "\n"
   ]
  },
  {
   "cell_type": "code",
   "execution_count": 1,
   "metadata": {},
   "outputs": [
    {
     "name": "stdout",
     "output_type": "stream",
     "text": [
      "3\n",
      "Greetings!\n"
     ]
    }
   ],
   "source": [
    "spam = int(input())\n",
    "\n",
    "if spam == 1:\n",
    "    print('Hello')\n",
    "elif spam == 2:\n",
    "    print('Howdy')\n",
    "else:\n",
    "    print('Greetings!')\n",
    "    "
   ]
  },
  {
   "cell_type": "markdown",
   "metadata": {},
   "source": [
    "# 9.If your programme is stuck in an endless loop, what keys you’ll press?\n",
    "\n",
    "To exit out of endless loops on the command line, press CTRL + C\n",
    "\n"
   ]
  },
  {
   "cell_type": "markdown",
   "metadata": {},
   "source": [
    "# 10. How can you tell the difference between break and continue?\n",
    "\n",
    "The difference between \"break\" & \"Continue\" are\n",
    "\n",
    "The break statement will move the execution outside and just after a loop.\n",
    "\n",
    "The continue statement will move the execution to the start of the loop.\n",
    "\n"
   ]
  },
  {
   "cell_type": "markdown",
   "metadata": {},
   "source": [
    "# 11. In a for loop, what is the difference between range(10), range(0, 10), and range(0, 10, 1)?\n",
    "\n",
    "\n",
    "The range(10) call ranges from 0 up to but not including 10, \n",
    "\n",
    "The range(0, 10) tells the loop to start at 0 and \n",
    "\n",
    "range(0, 10, 1) explicitly tells the loop to increase the variable by 1 on each iteration."
   ]
  },
  {
   "cell_type": "markdown",
   "metadata": {},
   "source": [
    "# 12. Write a short program that prints the numbers 1 to 10 using a for loop. Then write an equivalent program that prints the numbers 1 to 10 using a while loop.\n",
    "\n",
    "\n"
   ]
  },
  {
   "cell_type": "code",
   "execution_count": 10,
   "metadata": {},
   "outputs": [
    {
     "name": "stdout",
     "output_type": "stream",
     "text": [
      "1\n",
      "2\n",
      "3\n",
      "4\n",
      "5\n",
      "6\n",
      "7\n",
      "8\n",
      "9\n",
      "10\n",
      "1\n",
      "2\n",
      "3\n",
      "4\n",
      "5\n",
      "6\n",
      "7\n",
      "8\n",
      "9\n",
      "10\n"
     ]
    }
   ],
   "source": [
    "# For loop\n",
    "\n",
    "for i in range(1,11):\n",
    " print(i)\n",
    "\n",
    "#While loop\n",
    "\n",
    "i = 1\n",
    "while i <= 10:\n",
    "    print(i)\n",
    "    i = i + 1"
   ]
  },
  {
   "cell_type": "markdown",
   "metadata": {},
   "source": [
    "# 13. If you had a function named bacon() inside a module named spam, how would you call it after importing spam?\n",
    "\n",
    "\n",
    "import spam\n",
    "\n",
    "spam.bacon()"
   ]
  },
  {
   "cell_type": "code",
   "execution_count": null,
   "metadata": {},
   "outputs": [],
   "source": []
  }
 ],
 "metadata": {
  "kernelspec": {
   "display_name": "Python 3",
   "language": "python",
   "name": "python3"
  },
  "language_info": {
   "codemirror_mode": {
    "name": "ipython",
    "version": 3
   },
   "file_extension": ".py",
   "mimetype": "text/x-python",
   "name": "python",
   "nbconvert_exporter": "python",
   "pygments_lexer": "ipython3",
   "version": "3.8.5"
  }
 },
 "nbformat": 4,
 "nbformat_minor": 4
}
